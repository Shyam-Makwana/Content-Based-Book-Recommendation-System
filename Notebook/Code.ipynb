{
 "cells": [
  {
   "cell_type": "markdown",
   "id": "f891d752",
   "metadata": {},
   "source": [
    "# Content Based Book Recommendation System\n",
    "<p>In this system, we will automatically detect how closely books are related to each other.</p>\n",
    "<p>To this purpose, we will develop the bases of a content-based book recommendation system, which will determine which books are close to each other based on how similar the discussed topics are.</p>"
   ]
  },
  {
   "cell_type": "markdown",
   "id": "5a648e65",
   "metadata": {},
   "source": [
    "### 1. Get all text files\n",
    "We will retrieve list of all text files present in the Datasets/ folder and sort it alphabetically"
   ]
  },
  {
   "cell_type": "code",
   "execution_count": 1,
   "id": "d4bbf568",
   "metadata": {},
   "outputs": [
    {
     "name": "stdout",
     "output_type": "stream",
     "text": [
      "['../Datasets\\\\Autobiography.txt', '../Datasets\\\\CoralReefs.txt', '../Datasets\\\\DescentofMan.txt', '../Datasets\\\\DifferentFormsofFlowers.txt', '../Datasets\\\\EffectsCrossSelfFertilization.txt', '../Datasets\\\\ExpressionofEmotionManAnimals.txt', '../Datasets\\\\FormationVegetableMould.txt', '../Datasets\\\\FoundationsOriginofSpecies.txt', '../Datasets\\\\GeologicalObservationsSouthAmerica.txt', '../Datasets\\\\InsectivorousPlants.txt', '../Datasets\\\\LifeandLettersVol1.txt', '../Datasets\\\\LifeandLettersVol2.txt', '../Datasets\\\\MonographCirripedia.txt', '../Datasets\\\\MonographCirripediaVol2.txt', '../Datasets\\\\MovementClimbingPlants.txt', '../Datasets\\\\OriginofSpecies.txt', '../Datasets\\\\PowerMovementPlants.txt', '../Datasets\\\\VariationPlantsAnimalsDomestication.txt', '../Datasets\\\\VolcanicIslands.txt', '../Datasets\\\\VoyageBeagle.txt']\n"
     ]
    }
   ],
   "source": [
    "# Import library\n",
    "import glob, os\n",
    "\n",
    "# The books files are contained in this folder\n",
    "folder = \"../Datasets/\"\n",
    "\n",
    "# List all the .txt files and sort them alphabetically\n",
    "files = glob.glob(folder + \"*.txt\")\n",
    "files.sort()\n",
    "print(files)"
   ]
  },
  {
   "cell_type": "markdown",
   "id": "84cbe45d",
   "metadata": {},
   "source": [
    "### 2. Load the contents of each book into Python\n",
    "<p>Next, we need to load the content of these books into Python and do some basic pre-processing by removing non-alphanumeric characters. We call such a collection of texts <strong>a corpus</strong>. We will also store the titles for these books for future reference and print their respective length to get a gauge for their contents.</p>"
   ]
  },
  {
   "cell_type": "code",
   "execution_count": 2,
   "id": "a8e225f5",
   "metadata": {},
   "outputs": [
    {
     "data": {
      "text/plain": [
       "[123231,\n",
       " 496068,\n",
       " 1776539,\n",
       " 617088,\n",
       " 913713,\n",
       " 624232,\n",
       " 335920,\n",
       " 523021,\n",
       " 797401,\n",
       " 901406,\n",
       " 1047518,\n",
       " 1010643,\n",
       " 767492,\n",
       " 1660866,\n",
       " 298319,\n",
       " 916267,\n",
       " 1093567,\n",
       " 1043499,\n",
       " 341447,\n",
       " 1149574]"
      ]
     },
     "execution_count": 2,
     "metadata": {},
     "output_type": "execute_result"
    }
   ],
   "source": [
    "# Import libraries\n",
    "import re, os\n",
    "\n",
    "# Initialize the object that will contain the texts and titles\n",
    "txts = []\n",
    "titles = []\n",
    "\n",
    "for n in files:\n",
    "    # Open each file\n",
    "    f = open(n, encoding='utf-8-sig')\n",
    "    # Remove all non-alpha-numeric characters\n",
    "    book_content = re.sub('[\\W_]+', ' ', f.read())\n",
    "    # Get the title of book\n",
    "    book_title = os.path.basename(n).replace(\".txt\",'')\n",
    "    # Store the texts and titles of the books in two separate lists\n",
    "    txts.append(book_content)\n",
    "    titles.append(book_title)\n",
    "\n",
    "# Print the length, in characters, of each book\n",
    "[len(t) for t in txts]"
   ]
  },
  {
   "cell_type": "markdown",
   "id": "c96ad183",
   "metadata": {},
   "source": [
    "### 3. Find \"On the Origin of Species\" title book\n",
    "<p>For the next parts of this analysis, we will often check the results returned by our method for a given book. For consistency, we will refer to \"<em>On the Origin of Species</em>.\" Let's find to which index this book is associated.</p>"
   ]
  },
  {
   "cell_type": "code",
   "execution_count": 3,
   "id": "44792778",
   "metadata": {},
   "outputs": [
    {
     "name": "stdout",
     "output_type": "stream",
     "text": [
      "15\n"
     ]
    }
   ],
   "source": [
    "# Browse the list containing all the titles\n",
    "for i in range(len(titles)):\n",
    "    # Store the index if the title is \"OriginofSpecies\"\n",
    "    if titles[i] == \"OriginofSpecies\":\n",
    "        ori = i\n",
    "        break\n",
    "\n",
    "# Print the stored index\n",
    "print(ori)"
   ]
  },
  {
   "cell_type": "markdown",
   "id": "f56748ce",
   "metadata": {},
   "source": [
    "### 4. Tokenize the corpus\n",
    "<p>As a next step, we need to transform the corpus into a format that is easier to deal with for the downstream analyses (The text contains some words which are not useful for our analysis and will eliminate those words from our analysis). We will tokenize our corpus, i.e., transform each text into a list of the individual words (called tokens) it is made of. To check the output of our process, we will print the first 20 tokens of \"<em>On the Origin of Species</em>\".</p>"
   ]
  },
  {
   "cell_type": "code",
   "execution_count": 4,
   "id": "f63002fd",
   "metadata": {},
   "outputs": [
    {
     "name": "stdout",
     "output_type": "stream",
     "text": [
      "['on', 'origin', 'species', 'but', 'with', 'regard', 'material', 'world', 'can', 'least', 'go', 'so', 'far', 'this', 'can', 'perceive', 'events', 'are', 'brought', 'about']\n"
     ]
    }
   ],
   "source": [
    "# Define a list of stop words\n",
    "stoplist = set('for a of the and to in to be which some is at that we i who whom show via may my our might as well'.split())\n",
    "\n",
    "# Convert the text to lower case \n",
    "txts_lower_case = [txt.lower() for txt in txts]\n",
    "\n",
    "# Transform the text into tokens \n",
    "txts_split = [txt.split() for txt in txts_lower_case]\n",
    "\n",
    "# Remove tokens which are part of the list of stop words\n",
    "texts = [[t for t in txt if not t in stoplist] for txt in txts_split]\n",
    "\n",
    "# Print the first 20 tokens for the \"On the Origin of Species\" book\n",
    "print(texts[ori][0:20])"
   ]
  },
  {
   "cell_type": "markdown",
   "id": "246f7e61",
   "metadata": {},
   "source": [
    "### 5. Stemming of the tokenized corpus\n",
    "<p>Sometimes different words refer to a similar concept. For example, the concept of selection can be described by words such as <em>selection</em>, <em>selective</em>, <em>select</em> or <em>selects</em>. This will dilute the weight given to this concept in the book and potentially bias the results of the analysis.</p>\n",
    "<p>To solve this issue, it is a common practice to use a <strong>stemming process</strong>, which will group together the inflected forms of a word so they can be analysed as a single item: <strong>the stem</strong>. In our <em>On the Origin of Species</em> example, the words related to the concept of selection would be gathered under the <em>select</em> stem.</p>\n",
    "\n",
    "<p>As we are analysing 20 full books, the stemming algorithm can take several minutes to run and, in order to make the process faster, you can directly load the final results from a generated pickle file and review the method used to generate it.</p>"
   ]
  },
  {
   "cell_type": "code",
   "execution_count": null,
   "id": "896a0ed2",
   "metadata": {},
   "outputs": [],
   "source": [
    "####################################################\n",
    "#Generating the stem for each token using algorithm\n",
    "####################################################\n",
    "from nltk.stem import PorterStemmer \n",
    "\n",
    "# Create an instance of a PorterStemmer object \n",
    "porter = PorterStemmer()\n",
    "\n",
    "# For each token of each text, we generated its stem\n",
    "texts_stem = [[porter.stem(token) for token in text] for text in texts]\n",
    "\n",
    "# Print the 20 first stemmed tokens from the \"On the Origin of Species\" book\n",
    "texts_stem[ori][0:20]\n",
    "\n",
    "####################################################\n",
    "#Load the pickle file which has all stem tokens\n",
    "####################################################\n",
    "\n",
    "#import pickle\n",
    "\n",
    "# Load the stemmed tokens list from the pregenerated pickle file\n",
    "#texts_stem = pickle.load( open( \"datasets/texts_stem.p\", \"rb\" ) )\n",
    "\n",
    "# Print the 20 first stemmed tokens from the \"On the Origin of Species\" book\n",
    "#print(texts_stem[ori][0:20])\n"
   ]
  },
  {
   "cell_type": "markdown",
   "id": "b391826a",
   "metadata": {},
   "source": [
    "### 6. Building a bag-of-words model\n",
    "<p>Now that we have transformed the texts into stemmed tokens, we need to build models that will be useable by downstream algorithms.</p>\n",
    "<p>First, we need to will create a universe of all words contained in our corpus, which we call <em>a dictionary</em>. Then, using the stemmed tokens and the dictionary, we will create <strong>bag-of-words models</strong> (BoW) of each of our texts. The BoW models will represent our books as a list of all uniques tokens they contain associated with their respective number of occurrences. </p>\n",
    "<p>To better understand the structure of such a model, we will print the five first elements of one of the \"<em>On the Origin of Species</em>\" BoW model.</p>"
   ]
  },
  {
   "cell_type": "code",
   "execution_count": null,
   "id": "8d933516",
   "metadata": {},
   "outputs": [],
   "source": [
    "# Load the functions allowing to create and use dictionaries\n",
    "from gensim import corpora\n",
    "\n",
    "# Create a dictionary from the stemmed tokens\n",
    "dictionary = corpora.Dictionary(texts_stem)\n",
    "print(\"Dictionary: \",dictionary)\n",
    "\n",
    "# Create a bag-of-words model for each book, using the previously generated dictionary\n",
    "bows = [dictionary.doc2bow(text) for text in texts_stem]\n",
    "\n",
    "# Print the first ten elements of the On the Origin of species' BoW model\n",
    "print(bows[ori][:10])"
   ]
  },
  {
   "cell_type": "markdown",
   "id": "41da6866",
   "metadata": {},
   "source": [
    "### 7. The most common words of a given book\n",
    "<p>The results returned by the bag-of-words model is certainly easy to use for a computer but hard to interpret for a human. It is not straightforward to understand which stemmed tokens are present in a given book, and how many occurrences we can find.</p>\n",
    "<p>In order to better understand how the model has been generated and visualize its content, we will transform it into a DataFrame and display the 10 most common stems for the book \"<em>On the Origin of Species</em>\".</p>"
   ]
  },
  {
   "cell_type": "code",
   "execution_count": null,
   "id": "a5bb5174",
   "metadata": {},
   "outputs": [],
   "source": [
    "# Import pandas to create and manipulate DataFrames\n",
    "import pandas as pd\n",
    "\n",
    "# Convert the BoW model for \"On the Origin of Species\" into a DataFrame\n",
    "df_bow_origin = pd.DataFrame(bows[ori])\n",
    "\n",
    "# Add the column names to the DataFrame\n",
    "df_bow_origin.columns = ['index','occurrences']\n",
    "\n",
    "# Add a column containing the token corresponding to the dictionary index\n",
    "df_bow_origin['token'] = [dictionary[index] for index in df_bow_origin['index']]\n",
    "\n",
    "# Sort the DataFrame by descending number of occurrences and print the first 10 values\n",
    "print(df_bow_origin.sort_values(by='occurrences',ascending=False).head(10))"
   ]
  },
  {
   "cell_type": "markdown",
   "id": "056ef28d",
   "metadata": {},
   "source": [
    "### 8. Build a tf-idf model\n",
    "<p>If it wasn't for the presence of the stem \"<em>speci</em>\", we would have a hard time to guess this BoW model comes from the <em>On the Origin of Species</em> book. The most recurring words are, apart from few exceptions, very common and unlikely to carry any information peculiar to the given book. We need to use an additional step in order to determine which tokens are the most specific to a book.</p>\n",
    "<p>To do so, we will use a <strong>tf-idf model</strong> (term frequency–inverse document frequency). This model defines the importance of each word depending on how frequent it is in this text and how infrequent it is in all the other documents. As a result, a high tf-idf score for a word will indicate that this word is specific to this text.</p>\n",
    "<p>After computing those scores, we will print the 10 words most specific to the \"<em>On the Origin of Species</em>\" book (i.e., the 10 words with the highest tf-idf score).</p>"
   ]
  },
  {
   "cell_type": "code",
   "execution_count": null,
   "id": "73504eef",
   "metadata": {},
   "outputs": [],
   "source": [
    "# Load the gensim functions that will allow us to generate tf-idf models\n",
    "from gensim.models import TfidfModel\n",
    "\n",
    "# Generate the tf-idf model\n",
    "model = TfidfModel(bows)\n",
    "\n",
    "# Print the first 20 text from model of \"On the Origin of Species\"\n",
    "print(model[bows[ori][:20]])"
   ]
  },
  {
   "cell_type": "markdown",
   "id": "41e8cfc1",
   "metadata": {},
   "source": [
    "### 9. The results of the tf-idf model\n",
    "<p>Once again, the format of those results is hard to interpret for a human. Therefore, we will transform it into a more readable version and display the 10 most specific words for the \"<em>On the Origin of Species</em>\" book.</p>"
   ]
  },
  {
   "cell_type": "code",
   "execution_count": null,
   "id": "c069f982",
   "metadata": {},
   "outputs": [],
   "source": [
    "# Convert the tf-idf model for \"On the Origin of Species\" into a DataFrame\n",
    "df_tfidf = pd.DataFrame(model[bows[ori]])\n",
    "\n",
    "# Name the columns of the DataFrame id and score\n",
    "df_tfidf.columns = ['id','score']\n",
    "\n",
    "# Add the tokens corresponding to the numerical indices for better readability\n",
    "df_tfidf['token'] = [dictionary[index] for index in df_tfidf['id']]\n",
    "\n",
    "# Sort the DataFrame by descending tf-idf score and print the first 10 rows.\n",
    "print(df_tfidf.sort_values(by='score',ascending=False).head(10))"
   ]
  },
  {
   "cell_type": "markdown",
   "id": "44ff1bfb",
   "metadata": {},
   "source": [
    "### 10. Compute distance between texts\n",
    "<p>The results of the tf-idf algorithm now return stemmed tokens which are specific to each book. We can, for example, see that topics such as selection, breeding or domestication are defining \"<em>On the Origin of Species</em>\" (and yes, this book talks quite a lot about pigeons too). Now that we have a model associating tokens to how specific they are to each book, we can measure how related to books are between each other.</p>\n",
    "<p>To this purpose, we will use a measure of similarity called <strong>cosine similarity</strong> and we will visualize the results as a distance matrix, i.e., a matrix showing all pairwise distances between the books.</p>"
   ]
  },
  {
   "cell_type": "code",
   "execution_count": null,
   "id": "15541e1b",
   "metadata": {},
   "outputs": [],
   "source": [
    "# Load the library allowing similarity computations\n",
    "from gensim import similarities\n",
    "\n",
    "# Compute the similarity matrix (pairwise distance between all texts)\n",
    "sims = similarities.MatrixSimilarity(model[bows])\n",
    "\n",
    "# Transform the resulting list into a dataframe\n",
    "sim_df = pd.DataFrame(list(sims))\n",
    "# print(sim_df)\n",
    "\n",
    "# Add the titles of the books as columns and index of the dataframe\n",
    "sim_df.columns = titles\n",
    "sim_df.index = titles\n",
    "\n",
    "# Print the resulting matrix\n",
    "print(sim_df)"
   ]
  },
  {
   "cell_type": "markdown",
   "id": "d39e845d",
   "metadata": {},
   "source": [
    "### 11. The book most similar to \"On the Origin of Species\"\n",
    "<p>We now have a matrix containing all the similarity measures between any pair of books! We can now use this matrix to quickly extract the information we need, i.e., the distance between one book and one or several others. </p>\n",
    "<p>As a first step, we will display which books are the most similar to \"<em>On the Origin of Species</em>,\" more specifically we will produce a bar chart showing all books ranked by how similar they are to another books.</p>"
   ]
  },
  {
   "cell_type": "code",
   "execution_count": null,
   "id": "186f7cfd",
   "metadata": {},
   "outputs": [],
   "source": [
    "# This is needed to display plots in a notebook\n",
    "%matplotlib inline\n",
    "\n",
    "# Import libraries\n",
    "import matplotlib.pyplot as plt\n",
    "\n",
    "# Select the column corresponding to \"On the Origin of Species\" and \n",
    "v = sim_df['OriginofSpecies']\n",
    "\n",
    "# Sort by ascending scores\n",
    "v_sorted = v.sort_values()\n",
    "\n",
    "# Plot this data has a horizontal bar plot\n",
    "v_sorted.plot.barh()\n",
    "\n",
    "# Modify the axes labels and plot title for a better readability\n",
    "plt.xlabel(\"Cosine Similarity Distance\")\n",
    "plt.ylabel(\"Titles of Books\")\n",
    "plt.title(\"Most similar books to 'On the Origin of Species'\")"
   ]
  },
  {
   "cell_type": "markdown",
   "id": "ef67a878",
   "metadata": {},
   "source": [
    "### 12. Which books have similar content?\n",
    "<p>This turns out to be extremely useful if we want to determine a given book's most similar work.</p>\n",
    "<p>However, we now want to have a better understanding of the big picture and see how books are generally related to each other (in terms of topics discussed). To this purpose, we will represent the whole similarity matrix as a dendrogram, which is a standard tool to display such data. <strong>This last approach will display all the information about book similarities at once.</strong> For example, we can find a book's closest relative but, also, we can visualize which groups of books have similar topics.</p>"
   ]
  },
  {
   "cell_type": "code",
   "execution_count": null,
   "id": "aeb8aac3",
   "metadata": {},
   "outputs": [],
   "source": [
    "# Import libraries\n",
    "from scipy.cluster import hierarchy\n",
    "\n",
    "# Compute the clusters from the similarity matrix,\n",
    "# using the Ward variance minimization algorithm\n",
    "Z = hierarchy.linkage(sim_df,'ward')\n",
    "\n",
    "# Display this result as a horizontal dendrogram\n",
    "dend = hierarchy.dendrogram(Z, orientation=\"left\", leaf_font_size=8, labels=sim_df.index)"
   ]
  },
  {
   "cell_type": "markdown",
   "id": "61d29456",
   "metadata": {},
   "source": [
    "### We have just seen from dendrogram that if you enjoyed \"<em>On the Origin of Species</em>,\" you can read books discussing similar concepts such as \"<em>The Variation of Animals and Plants under Domestication</em>\" or \"<em>The Descent of Man, and Selection in Relation to Sex</em>.\" Indeed, <em>On the Origin of Species</em> has a whole chapter about domestication and <em>The Descent of Man, and Selection in Relation to Sex</em> applies the theory of natural selection to human evolution. Hence, the results make sense."
   ]
  }
 ],
 "metadata": {
  "kernelspec": {
   "display_name": "Python 3",
   "language": "python",
   "name": "python3"
  },
  "language_info": {
   "codemirror_mode": {
    "name": "ipython",
    "version": 3
   },
   "file_extension": ".py",
   "mimetype": "text/x-python",
   "name": "python",
   "nbconvert_exporter": "python",
   "pygments_lexer": "ipython3",
   "version": "3.9.4"
  }
 },
 "nbformat": 4,
 "nbformat_minor": 5
}
